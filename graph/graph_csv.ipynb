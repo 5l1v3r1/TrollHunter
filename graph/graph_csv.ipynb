{
 "cells": [
  {
   "cell_type": "markdown",
   "metadata": {},
   "source": [
    "# READ CSV"
   ]
  },
  {
   "cell_type": "code",
   "execution_count": 5,
   "metadata": {},
   "outputs": [
    {
     "data": {
      "text/html": [
       "<div>\n",
       "<style scoped>\n",
       "    .dataframe tbody tr th:only-of-type {\n",
       "        vertical-align: middle;\n",
       "    }\n",
       "\n",
       "    .dataframe tbody tr th {\n",
       "        vertical-align: top;\n",
       "    }\n",
       "\n",
       "    .dataframe thead th {\n",
       "        text-align: right;\n",
       "    }\n",
       "</style>\n",
       "<table border=\"1\" class=\"dataframe\">\n",
       "  <thead>\n",
       "    <tr style=\"text-align: right;\">\n",
       "      <th></th>\n",
       "      <th>twittos_a</th>\n",
       "      <th>interaction</th>\n",
       "      <th>twittos_b</th>\n",
       "    </tr>\n",
       "  </thead>\n",
       "  <tbody>\n",
       "    <tr>\n",
       "      <th>0</th>\n",
       "      <td>500989115</td>\n",
       "      <td>retweet</td>\n",
       "      <td>744306004582612992</td>\n",
       "    </tr>\n",
       "    <tr>\n",
       "      <th>1</th>\n",
       "      <td>500989115</td>\n",
       "      <td>converse</td>\n",
       "      <td>1213783872099373057</td>\n",
       "    </tr>\n",
       "    <tr>\n",
       "      <th>2</th>\n",
       "      <td>1238416716817936386</td>\n",
       "      <td>follow</td>\n",
       "      <td>500989115</td>\n",
       "    </tr>\n",
       "    <tr>\n",
       "      <th>3</th>\n",
       "      <td>1235282853409280000</td>\n",
       "      <td>follow</td>\n",
       "      <td>500989115</td>\n",
       "    </tr>\n",
       "    <tr>\n",
       "      <th>4</th>\n",
       "      <td>500989115</td>\n",
       "      <td>follow</td>\n",
       "      <td>1213783872099373057</td>\n",
       "    </tr>\n",
       "    <tr>\n",
       "      <th>...</th>\n",
       "      <td>...</td>\n",
       "      <td>...</td>\n",
       "      <td>...</td>\n",
       "    </tr>\n",
       "    <tr>\n",
       "      <th>2540</th>\n",
       "      <td>1220678761126875138</td>\n",
       "      <td>follow</td>\n",
       "      <td>2853806083</td>\n",
       "    </tr>\n",
       "    <tr>\n",
       "      <th>2541</th>\n",
       "      <td>1220678761126875138</td>\n",
       "      <td>follow</td>\n",
       "      <td>1137307990300643328</td>\n",
       "    </tr>\n",
       "    <tr>\n",
       "      <th>2542</th>\n",
       "      <td>1220678761126875138</td>\n",
       "      <td>follow</td>\n",
       "      <td>636273090</td>\n",
       "    </tr>\n",
       "    <tr>\n",
       "      <th>2543</th>\n",
       "      <td>1220678761126875138</td>\n",
       "      <td>follow</td>\n",
       "      <td>1169115284118147072</td>\n",
       "    </tr>\n",
       "    <tr>\n",
       "      <th>2544</th>\n",
       "      <td>1220678761126875138</td>\n",
       "      <td>follow</td>\n",
       "      <td>871662922853892097</td>\n",
       "    </tr>\n",
       "  </tbody>\n",
       "</table>\n",
       "<p>2545 rows × 3 columns</p>\n",
       "</div>"
      ],
      "text/plain": [
       "                twittos_a interaction            twittos_b\n",
       "0               500989115     retweet   744306004582612992\n",
       "1               500989115    converse  1213783872099373057\n",
       "2     1238416716817936386      follow            500989115\n",
       "3     1235282853409280000      follow            500989115\n",
       "4               500989115      follow  1213783872099373057\n",
       "...                   ...         ...                  ...\n",
       "2540  1220678761126875138      follow           2853806083\n",
       "2541  1220678761126875138      follow  1137307990300643328\n",
       "2542  1220678761126875138      follow            636273090\n",
       "2543  1220678761126875138      follow  1169115284118147072\n",
       "2544  1220678761126875138      follow   871662922853892097\n",
       "\n",
       "[2545 rows x 3 columns]"
      ]
     },
     "execution_count": 5,
     "metadata": {},
     "output_type": "execute_result"
    }
   ],
   "source": [
    "import pandas as pd\n",
    "csv = pd.read_csv('./interaction.csv')\n"
   ]
  },
  {
   "cell_type": "markdown",
   "metadata": {},
   "source": [
    "# clear data"
   ]
  },
  {
   "cell_type": "code",
   "execution_count": null,
   "metadata": {},
   "outputs": [],
   "source": [
    "twitter_interaction = csv.drop(columns=[\"_index\",\"_type\",\"_id\",\"_score\",\"_source.id\",\"_source.source\"])\n",
    "twitter_interaction = twitter_interaction.rename(columns={\"_source.twittos_a\":\"twittos_a\",\"_source.interaction\":\"interaction\",\"_source.twittos_b\":\"twittos_b\"}) \n",
    "twitter_interaction"
   ]
  },
  {
   "cell_type": "code",
   "execution_count": null,
   "metadata": {},
   "outputs": [],
   "source": []
  }
 ],
 "metadata": {
  "kernelspec": {
   "display_name": "Python 3",
   "language": "python",
   "name": "python3"
  },
  "language_info": {
   "codemirror_mode": {
    "name": "ipython",
    "version": 3
   },
   "file_extension": ".py",
   "mimetype": "text/x-python",
   "name": "python",
   "nbconvert_exporter": "python",
   "pygments_lexer": "ipython3",
   "version": "3.7.5"
  }
 },
 "nbformat": 4,
 "nbformat_minor": 4
}
